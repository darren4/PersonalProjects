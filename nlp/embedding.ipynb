{
 "cells": [
  {
   "cell_type": "code",
   "execution_count": null,
   "metadata": {},
   "outputs": [],
   "source": [
    "# Source: https://www.sbert.net/examples/applications/semantic-search/README.html"
   ]
  },
  {
   "cell_type": "code",
   "execution_count": 1,
   "metadata": {},
   "outputs": [
    {
     "name": "stderr",
     "output_type": "stream",
     "text": [
      "/home/projects/env/lib/python3.8/site-packages/tqdm/auto.py:21: TqdmWarning: IProgress not found. Please update jupyter and ipywidgets. See https://ipywidgets.readthedocs.io/en/stable/user_install.html\n",
      "  from .autonotebook import tqdm as notebook_tqdm\n"
     ]
    }
   ],
   "source": [
    "from sentence_transformers import SentenceTransformer, util\n",
    "import torch"
   ]
  },
  {
   "cell_type": "code",
   "execution_count": 2,
   "metadata": {},
   "outputs": [
    {
     "name": "stderr",
     "output_type": "stream",
     "text": [
      "(…)f3d3c277d6e90027e55de9125/.gitattributes: 100%|██████████| 1.18k/1.18k [00:00<00:00, 287kB/s]\n",
      "(…)7d6e90027e55de9125/1_Pooling/config.json: 100%|██████████| 190/190 [00:00<00:00, 93.7kB/s]\n",
      "(…)e2f80f3d3c277d6e90027e55de9125/README.md: 100%|██████████| 10.6k/10.6k [00:00<00:00, 6.01MB/s]\n",
      "(…)f80f3d3c277d6e90027e55de9125/config.json: 100%|██████████| 612/612 [00:00<00:00, 582kB/s]\n",
      "(…)de9125/config_sentence_transformers.json: 100%|██████████| 116/116 [00:00<00:00, 97.3kB/s]\n",
      "(…)d3c277d6e90027e55de9125/data_config.json: 100%|██████████| 39.3k/39.3k [00:00<00:00, 25.3MB/s]\n",
      "pytorch_model.bin: 100%|██████████| 90.9M/90.9M [00:02<00:00, 40.9MB/s]\n",
      "(…)90027e55de9125/sentence_bert_config.json: 100%|██████████| 53.0/53.0 [00:00<00:00, 37.6kB/s]\n",
      "(…)6e90027e55de9125/special_tokens_map.json: 100%|██████████| 112/112 [00:00<00:00, 127kB/s]\n",
      "(…)f3d3c277d6e90027e55de9125/tokenizer.json: 100%|██████████| 466k/466k [00:00<00:00, 12.3MB/s]\n",
      "(…)7d6e90027e55de9125/tokenizer_config.json: 100%|██████████| 350/350 [00:00<00:00, 256kB/s]\n",
      "(…)3d3c277d6e90027e55de9125/train_script.py: 100%|██████████| 13.2k/13.2k [00:00<00:00, 14.9MB/s]\n",
      "(…)e2f80f3d3c277d6e90027e55de9125/vocab.txt: 100%|██████████| 232k/232k [00:00<00:00, 3.69MB/s]\n",
      "(…)80f3d3c277d6e90027e55de9125/modules.json: 100%|██████████| 349/349 [00:00<00:00, 264kB/s]\n"
     ]
    }
   ],
   "source": [
    "embedder = SentenceTransformer('all-MiniLM-L6-v2')"
   ]
  },
  {
   "cell_type": "code",
   "execution_count": 4,
   "metadata": {},
   "outputs": [
    {
     "data": {
      "text/plain": [
       "torch.Size([9, 384])"
      ]
     },
     "execution_count": 4,
     "metadata": {},
     "output_type": "execute_result"
    }
   ],
   "source": [
    "corpus = ['A man is eating food.',\n",
    "          'A man is eating a piece of bread.',\n",
    "          'The girl is carrying a baby.',\n",
    "          'A man is riding a horse.',\n",
    "          'A woman is playing violin.',\n",
    "          'Two men pushed carts through the woods.',\n",
    "          'A man is riding a white horse on an enclosed ground.',\n",
    "          'A monkey is playing drums.',\n",
    "          'A cheetah is running behind its prey.'\n",
    "          ]\n",
    "corpus_embeddings = embedder.encode(corpus, convert_to_tensor=True)\n",
    "corpus_embeddings.size()"
   ]
  },
  {
   "cell_type": "code",
   "execution_count": 7,
   "metadata": {},
   "outputs": [],
   "source": [
    "query = ['A man is eating pasta.']"
   ]
  },
  {
   "cell_type": "code",
   "execution_count": 9,
   "metadata": {},
   "outputs": [],
   "source": [
    "top_k = min(5, len(corpus))\n",
    "query_embedding = embedder.encode(query, convert_to_tensor=True)\n",
    "query_corpus_sim_scores = util.cos_sim(query_embedding, corpus_embeddings)[0]"
   ]
  },
  {
   "cell_type": "code",
   "execution_count": 11,
   "metadata": {},
   "outputs": [
    {
     "data": {
      "text/plain": [
       "[(tensor(0.7035), 'A man is eating food.'),\n",
       " (tensor(0.5272), 'A man is eating a piece of bread.'),\n",
       " (tensor(0.1889), 'A man is riding a horse.'),\n",
       " (tensor(0.1047), 'A man is riding a white horse on an enclosed ground.'),\n",
       " (tensor(0.0980), 'A cheetah is running behind its prey.'),\n",
       " (tensor(0.0819), 'A monkey is playing drums.'),\n",
       " (tensor(0.0336), 'A woman is playing violin.'),\n",
       " (tensor(-0.0594), 'Two men pushed carts through the woods.'),\n",
       " (tensor(-0.0898), 'The girl is carrying a baby.')]"
      ]
     },
     "execution_count": 11,
     "metadata": {},
     "output_type": "execute_result"
    }
   ],
   "source": [
    "score_sentence_pairs = list(zip(query_corpus_sim_scores, corpus))\n",
    "score_sentence_pairs.sort(reverse=True)\n",
    "score_sentence_pairs"
   ]
  }
 ],
 "metadata": {
  "kernelspec": {
   "display_name": "env",
   "language": "python",
   "name": "python3"
  },
  "language_info": {
   "codemirror_mode": {
    "name": "ipython",
    "version": 3
   },
   "file_extension": ".py",
   "mimetype": "text/x-python",
   "name": "python",
   "nbconvert_exporter": "python",
   "pygments_lexer": "ipython3",
   "version": "3.8.10"
  }
 },
 "nbformat": 4,
 "nbformat_minor": 2
}
