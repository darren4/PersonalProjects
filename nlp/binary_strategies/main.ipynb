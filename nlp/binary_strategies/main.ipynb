{
 "cells": [
  {
   "cell_type": "code",
   "execution_count": 1,
   "metadata": {},
   "outputs": [],
   "source": [
    "import pandas as pd\n",
    "from sklearn.model_selection import train_test_split\n",
    "from nlp.binary_strategies.strat_simple_nn_embedding import SimpleNNEmbedding\n",
    "from sklearn.metrics import classification_report\n",
    "import numpy as np\n",
    "import os"
   ]
  },
  {
   "cell_type": "code",
   "execution_count": 2,
   "metadata": {},
   "outputs": [],
   "source": [
    "strat = SimpleNNEmbedding()"
   ]
  },
  {
   "cell_type": "code",
   "execution_count": 3,
   "metadata": {},
   "outputs": [
    {
     "name": "stdout",
     "output_type": "stream",
     "text": [
      "Preprocessing Done\n"
     ]
    }
   ],
   "source": [
    "raw_data = pd.read_csv(f\"{os.getenv('PYTHONPATH')}/nlp/data/security_descriptions.csv\")\n",
    "\n",
    "raw_data_true = raw_data[raw_data[\"same_security\"] == np.bool_(True)]\n",
    "raw_data_false = raw_data[raw_data[\"same_security\"] == np.bool_(False)]\n",
    "\n",
    "train_true, test_true = train_test_split(raw_data_true)\n",
    "train_false, test_false = train_test_split(raw_data_false)\n",
    "\n",
    "train_data = pd.concat([train_true, train_false])\n",
    "test_data = pd.concat([test_true, test_false])\n",
    "\n",
    "train_x = train_data[[\"description_x\", \"description_y\"]].to_numpy()\n",
    "train_y = train_data[\"same_security\"].to_numpy()\n",
    "\n",
    "test_x = test_data[[\"description_x\", \"description_y\"]].to_numpy()\n",
    "test_y = test_data[\"same_security\"].to_numpy()\n",
    "\n",
    "print(\"Preprocessing Done\")"
   ]
  },
  {
   "cell_type": "code",
   "execution_count": 4,
   "metadata": {},
   "outputs": [
    {
     "name": "stdout",
     "output_type": "stream",
     "text": [
      "Word Embedding Model: \n",
      "EmbeddingNN(\n",
      "  (linear1): Linear(in_features=1516, out_features=2, bias=True)\n",
      "  (linear2): Linear(in_features=2, out_features=1516, bias=True)\n",
      ")\n",
      "\n"
     ]
    },
    {
     "name": "stderr",
     "output_type": "stream",
     "text": [
      "/home/projects/env/lib/python3.8/site-packages/tqdm/auto.py:21: TqdmWarning: IProgress not found. Please update jupyter and ipywidgets. See https://ipywidgets.readthedocs.io/en/stable/user_install.html\n",
      "  from .autonotebook import tqdm as notebook_tqdm\n"
     ]
    },
    {
     "name": "stdout",
     "output_type": "stream",
     "text": [
      "Training Word Embedding\n",
      "Epoch 0 loss: 7.382495880126953\n",
      "Epoch 1 loss: 7.382482051849365\n",
      "Epoch 2 loss: 7.3824567794799805\n",
      "Epoch 3 loss: 7.382420539855957\n",
      "Epoch 4 loss: 7.3823747634887695\n",
      "Epoch 5 loss: 7.38231897354126\n",
      "Epoch 6 loss: 7.382256031036377\n",
      "Epoch 7 loss: 7.382186412811279\n",
      "Epoch 8 loss: 7.382109642028809\n",
      "Epoch 9 loss: 7.382027626037598\n",
      "Epoch 10 loss: 7.381939888000488\n",
      "Epoch 11 loss: 7.3818488121032715\n",
      "Epoch 12 loss: 7.381752967834473\n",
      "Epoch 13 loss: 7.381653785705566\n",
      "Epoch 14 loss: 7.38154935836792\n",
      "Epoch 15 loss: 7.381443500518799\n",
      "Epoch 16 loss: 7.381335258483887\n",
      "Epoch 17 loss: 7.381224632263184\n",
      "Epoch 18 loss: 7.3811116218566895\n",
      "Epoch 19 loss: 7.380995750427246\n",
      "Epoch 20 loss: 7.380878925323486\n",
      "Epoch 21 loss: 7.380760192871094\n",
      "Epoch 22 loss: 7.380641460418701\n",
      "Epoch 23 loss: 7.380520820617676\n",
      "Epoch 24 loss: 7.380398273468018\n",
      "Epoch 25 loss: 7.380276203155518\n",
      "Epoch 26 loss: 7.380152225494385\n",
      "Epoch 27 loss: 7.380027770996094\n",
      "Epoch 28 loss: 7.379903316497803\n",
      "Epoch 29 loss: 7.379776954650879\n",
      "\n",
      "Finished Creating Word Embedding\n",
      "\n",
      "Training Done\n"
     ]
    }
   ],
   "source": [
    "strat.train(train_x, train_y)\n",
    "print(\"Training Done\")"
   ]
  },
  {
   "cell_type": "code",
   "execution_count": 5,
   "metadata": {},
   "outputs": [
    {
     "name": "stdout",
     "output_type": "stream",
     "text": [
      "Predicting Done\n",
      "Classfication Report:\n",
      "              precision    recall  f1-score   support\n",
      "\n",
      "       False       0.18      0.07      0.10       133\n",
      "        True       0.74      0.90      0.81       404\n",
      "\n",
      "    accuracy                           0.69       537\n",
      "   macro avg       0.46      0.48      0.46       537\n",
      "weighted avg       0.60      0.69      0.64       537\n",
      "\n",
      "All Done\n"
     ]
    }
   ],
   "source": [
    "predictions = strat.predict(test_x)\n",
    "print(\"Predicting Done\")\n",
    "\n",
    "report = classification_report(test_y, predictions)\n",
    "print(\"Classfication Report:\")\n",
    "print(report)\n",
    "\n",
    "print(\"All Done\")"
   ]
  }
 ],
 "metadata": {
  "kernelspec": {
   "display_name": "env",
   "language": "python",
   "name": "python3"
  },
  "language_info": {
   "codemirror_mode": {
    "name": "ipython",
    "version": 3
   },
   "file_extension": ".py",
   "mimetype": "text/x-python",
   "name": "python",
   "nbconvert_exporter": "python",
   "pygments_lexer": "ipython3",
   "version": "3.8.10"
  },
  "orig_nbformat": 4
 },
 "nbformat": 4,
 "nbformat_minor": 2
}
