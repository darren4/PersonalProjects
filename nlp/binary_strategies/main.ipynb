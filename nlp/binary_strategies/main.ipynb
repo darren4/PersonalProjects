{
 "cells": [
  {
   "cell_type": "code",
   "execution_count": 5,
   "metadata": {},
   "outputs": [],
   "source": [
    "import pandas as pd\n",
    "from sklearn.model_selection import train_test_split\n",
    "from nlp.binary_strategies.strat_simple_nn_embedding import SimpleNNEmbedding\n",
    "from sklearn.metrics import classification_report\n",
    "import numpy as np\n",
    "import os"
   ]
  },
  {
   "cell_type": "code",
   "execution_count": 2,
   "metadata": {},
   "outputs": [],
   "source": [
    "strat = SimpleNNEmbedding()"
   ]
  },
  {
   "cell_type": "code",
   "execution_count": 6,
   "metadata": {},
   "outputs": [
    {
     "name": "stdout",
     "output_type": "stream",
     "text": [
      "Preprocessing Done\n"
     ]
    }
   ],
   "source": [
    "raw_data = pd.read_csv(f\"{os.getenv('PYTHONPATH')}/nlp/data/security_descriptions.csv\")\n",
    "\n",
    "raw_data_true = raw_data[raw_data[\"same_security\"] == np.bool_(True)]\n",
    "raw_data_false = raw_data[raw_data[\"same_security\"] == np.bool_(False)]\n",
    "\n",
    "train_true, test_true = train_test_split(raw_data_true)\n",
    "train_false, test_false = train_test_split(raw_data_false)\n",
    "\n",
    "train_data = pd.concat([train_true, train_false])\n",
    "test_data = pd.concat([test_true, test_false])\n",
    "\n",
    "train_x = train_data[[\"description_x\", \"description_y\"]].to_numpy()\n",
    "train_y = train_data[\"same_security\"].to_numpy()\n",
    "\n",
    "test_x = test_data[[\"description_x\", \"description_y\"]].to_numpy()\n",
    "test_y = test_data[\"same_security\"].to_numpy()\n",
    "\n",
    "print(\"Preprocessing Done\")"
   ]
  },
  {
   "cell_type": "code",
   "execution_count": 7,
   "metadata": {},
   "outputs": [
    {
     "name": "stdout",
     "output_type": "stream",
     "text": [
      "Word Embedding Model: \n",
      "EmbeddingNN(\n",
      "  (linear1): Linear(in_features=1550, out_features=2, bias=True)\n",
      "  (linear2): Linear(in_features=2, out_features=1550, bias=True)\n",
      ")\n",
      "\n"
     ]
    },
    {
     "name": "stderr",
     "output_type": "stream",
     "text": [
      "/home/projects/env/lib/python3.8/site-packages/tqdm/auto.py:21: TqdmWarning: IProgress not found. Please update jupyter and ipywidgets. See https://ipywidgets.readthedocs.io/en/stable/user_install.html\n",
      "  from .autonotebook import tqdm as notebook_tqdm\n"
     ]
    }
   ],
   "source": [
    "strat.train(train_x, train_y)\n",
    "print(\"Training Done\")"
   ]
  },
  {
   "cell_type": "code",
   "execution_count": null,
   "metadata": {},
   "outputs": [
    {
     "name": "stdout",
     "output_type": "stream",
     "text": [
      "Predicting Done\n",
      "Classfication Report:\n",
      "              precision    recall  f1-score   support\n",
      "\n",
      "       False       0.25      0.13      0.17       133\n",
      "        True       0.75      0.87      0.81       404\n",
      "\n",
      "    accuracy                           0.69       537\n",
      "   macro avg       0.50      0.50      0.49       537\n",
      "weighted avg       0.63      0.69      0.65       537\n",
      "\n",
      "All Done\n"
     ]
    }
   ],
   "source": [
    "predictions = strat.predict(test_x)\n",
    "print(\"Predicting Done\")\n",
    "\n",
    "report = classification_report(test_y, predictions)\n",
    "print(\"Classfication Report:\")\n",
    "print(report)\n",
    "\n",
    "print(\"All Done\")"
   ]
  }
 ],
 "metadata": {
  "kernelspec": {
   "display_name": "env",
   "language": "python",
   "name": "python3"
  },
  "language_info": {
   "codemirror_mode": {
    "name": "ipython",
    "version": 3
   },
   "file_extension": ".py",
   "mimetype": "text/x-python",
   "name": "python",
   "nbconvert_exporter": "python",
   "pygments_lexer": "ipython3",
   "version": "3.8.10"
  },
  "orig_nbformat": 4
 },
 "nbformat": 4,
 "nbformat_minor": 2
}
