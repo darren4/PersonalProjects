{
 "cells": [
  {
   "cell_type": "code",
   "execution_count": 1,
   "metadata": {},
   "outputs": [],
   "source": [
    "import pandas as pd\n",
    "from sklearn.model_selection import train_test_split\n",
    "from strategies.strat_simple_nn_embedding import SimpleNNEmbedding\n",
    "from sklearn.metrics import classification_report\n",
    "import numpy as np"
   ]
  },
  {
   "cell_type": "code",
   "execution_count": 2,
   "metadata": {},
   "outputs": [],
   "source": [
    "strat = SimpleNNEmbedding()"
   ]
  },
  {
   "cell_type": "code",
   "execution_count": 3,
   "metadata": {},
   "outputs": [
    {
     "name": "stdout",
     "output_type": "stream",
     "text": [
      "Preprocessing Done\n"
     ]
    }
   ],
   "source": [
    "raw_data = pd.read_csv(\"data/security_descriptions.csv\")\n",
    "\n",
    "raw_data_true = raw_data[raw_data[\"same_security\"] == np.bool_(True)]\n",
    "raw_data_false = raw_data[raw_data[\"same_security\"] == np.bool_(False)]\n",
    "\n",
    "train_true, test_true = train_test_split(raw_data_true)\n",
    "train_false, test_false = train_test_split(raw_data_false)\n",
    "\n",
    "train_data = pd.concat([train_true, train_false])\n",
    "test_data = pd.concat([test_true, test_false])\n",
    "\n",
    "train_x = train_data[[\"description_x\", \"description_y\"]].to_numpy()\n",
    "train_y = train_data[\"same_security\"].to_numpy()\n",
    "\n",
    "test_x = test_data[[\"description_x\", \"description_y\"]].to_numpy()\n",
    "test_y = test_data[\"same_security\"].to_numpy()\n",
    "\n",
    "print(\"Preprocessing Done\")"
   ]
  },
  {
   "cell_type": "code",
   "execution_count": 4,
   "metadata": {},
   "outputs": [
    {
     "name": "stdout",
     "output_type": "stream",
     "text": [
      "Word Embedding Model: \n",
      "EmbeddingNN(\n",
      "  (linear1): Linear(in_features=1513, out_features=2, bias=True)\n",
      "  (linear2): Linear(in_features=2, out_features=1513, bias=True)\n",
      ")\n",
      "\n",
      "Training Word Embedding\n",
      "Epoch 0 loss: 7.397616386413574\n",
      "Epoch 1 loss: 7.39760684967041\n",
      "Epoch 2 loss: 7.397589206695557\n",
      "Epoch 3 loss: 7.3975629806518555\n",
      "Epoch 4 loss: 7.397530555725098\n",
      "Epoch 5 loss: 7.397491931915283\n",
      "Epoch 6 loss: 7.39744758605957\n",
      "Epoch 7 loss: 7.397397518157959\n",
      "Epoch 8 loss: 7.397343635559082\n",
      "Epoch 9 loss: 7.397286415100098\n",
      "Epoch 10 loss: 7.3972249031066895\n",
      "Epoch 11 loss: 7.397158622741699\n",
      "Epoch 12 loss: 7.397090911865234\n",
      "Epoch 13 loss: 7.39702033996582\n",
      "Epoch 14 loss: 7.396947860717773\n",
      "Epoch 15 loss: 7.396872520446777\n",
      "Epoch 16 loss: 7.396795272827148\n",
      "Epoch 17 loss: 7.396717071533203\n",
      "Epoch 18 loss: 7.396636962890625\n",
      "Epoch 19 loss: 7.396554946899414\n",
      "Epoch 20 loss: 7.396471977233887\n",
      "Epoch 21 loss: 7.396387577056885\n",
      "Epoch 22 loss: 7.396302700042725\n",
      "Epoch 23 loss: 7.396216869354248\n",
      "Epoch 24 loss: 7.396130084991455\n",
      "Epoch 25 loss: 7.396042346954346\n",
      "Epoch 26 loss: 7.395954608917236\n",
      "Epoch 27 loss: 7.395865440368652\n",
      "Epoch 28 loss: 7.395775318145752\n",
      "Epoch 29 loss: 7.39568567276001\n",
      "\n",
      "Finished Creating Word Embedding\n",
      "\n",
      "Training Done\n"
     ]
    }
   ],
   "source": [
    "strat.train(train_x, train_y)\n",
    "print(\"Training Done\")"
   ]
  },
  {
   "cell_type": "code",
   "execution_count": 5,
   "metadata": {},
   "outputs": [
    {
     "name": "stdout",
     "output_type": "stream",
     "text": [
      "Predicting Done\n",
      "Classfication Report:\n",
      "              precision    recall  f1-score   support\n",
      "\n",
      "       False       0.25      0.13      0.17       133\n",
      "        True       0.75      0.87      0.81       404\n",
      "\n",
      "    accuracy                           0.69       537\n",
      "   macro avg       0.50      0.50      0.49       537\n",
      "weighted avg       0.63      0.69      0.65       537\n",
      "\n",
      "All Done\n"
     ]
    }
   ],
   "source": [
    "predictions = strat.predict(test_x)\n",
    "print(\"Predicting Done\")\n",
    "\n",
    "report = classification_report(test_y, predictions)\n",
    "print(\"Classfication Report:\")\n",
    "print(report)\n",
    "\n",
    "print(\"All Done\")"
   ]
  }
 ],
 "metadata": {
  "kernelspec": {
   "display_name": "env",
   "language": "python",
   "name": "python3"
  },
  "language_info": {
   "codemirror_mode": {
    "name": "ipython",
    "version": 3
   },
   "file_extension": ".py",
   "mimetype": "text/x-python",
   "name": "python",
   "nbconvert_exporter": "python",
   "pygments_lexer": "ipython3",
   "version": "3.8.10"
  },
  "orig_nbformat": 4
 },
 "nbformat": 4,
 "nbformat_minor": 2
}
